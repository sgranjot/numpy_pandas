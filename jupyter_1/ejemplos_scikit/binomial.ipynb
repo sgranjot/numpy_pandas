{
 "cells": [
  {
   "cell_type": "code",
   "execution_count": 1,
   "id": "d90dc9d3-ac1f-43f7-bd5a-648ebb583585",
   "metadata": {},
   "outputs": [
    {
     "ename": "NameError",
     "evalue": "name 'X' is not defined",
     "output_type": "error",
     "traceback": [
      "\u001b[1;31m---------------------------------------------------------------------------\u001b[0m",
      "\u001b[1;31mNameError\u001b[0m                                 Traceback (most recent call last)",
      "Cell \u001b[1;32mIn[1], line 15\u001b[0m\n\u001b[0;32m     13\u001b[0m \u001b[38;5;66;03m# Ajuste del modelo de regresión logística\u001b[39;00m\n\u001b[0;32m     14\u001b[0m model \u001b[38;5;241m=\u001b[39m LogisticRegression()\n\u001b[1;32m---> 15\u001b[0m model\u001b[38;5;241m.\u001b[39mfit(\u001b[43mX\u001b[49m, y)\n\u001b[0;32m     18\u001b[0m \u001b[38;5;66;03m# Plotear los datos y la regresión logística\u001b[39;00m\n\u001b[0;32m     19\u001b[0m plt\u001b[38;5;241m.\u001b[39mfigure(figsize\u001b[38;5;241m=\u001b[39m(\u001b[38;5;241m8\u001b[39m, \u001b[38;5;241m6\u001b[39m))\n",
      "\u001b[1;31mNameError\u001b[0m: name 'X' is not defined"
     ]
    }
   ],
   "source": [
    "import numpy as np\n",
    "import matplotlib.pyplot as plt\n",
    "from scipy.optimize import curve_fit\n",
    "from sklearn.linear_model import LogisticRegression\n",
    "\n",
    "# Generar datos sintéticos\n",
    "np.random.seed(0)\n",
    "x = np.arange(1, 11)\n",
    "p_true = 0.3  # Probabilidad verdadera de éxito\n",
    "n_trials = 20\n",
    "y = np.random.binomial(n_trials, p_true, size=len(x))\n",
    "\n",
    "# Ajuste del modelo de regresión logística\n",
    "model = LogisticRegression()\n",
    "model.fit(X, y)\n",
    "\n",
    "\n",
    "# Plotear los datos y la regresión logística\n",
    "plt.figure(figsize=(8, 6))\n",
    "plt.scatter(x, y , label='Datos')\n",
    "plt.plot(x, logistic_regression(x, *params), color='red', label='Regresión logística')\n",
    "plt.xlabel('x')\n",
    "plt.ylabel('Probabilidad de éxito')\n",
    "plt.title('Regresión logística')\n",
    "plt.legend()\n",
    "plt.show()\n",
    "\n",
    "# Imprimir los parámetros ajustados\n",
    "print(\"Parámetros ajustados (a, b):\", params)\n"
   ]
  }
 ],
 "metadata": {
  "kernelspec": {
   "display_name": "Python 3 (ipykernel)",
   "language": "python",
   "name": "python3"
  },
  "language_info": {
   "codemirror_mode": {
    "name": "ipython",
    "version": 3
   },
   "file_extension": ".py",
   "mimetype": "text/x-python",
   "name": "python",
   "nbconvert_exporter": "python",
   "pygments_lexer": "ipython3",
   "version": "3.12.2"
  }
 },
 "nbformat": 4,
 "nbformat_minor": 5
}
