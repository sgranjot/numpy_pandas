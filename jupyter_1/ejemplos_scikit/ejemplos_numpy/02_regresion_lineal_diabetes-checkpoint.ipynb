{
 "cells": [
  {
   "cell_type": "markdown",
   "id": "326b4f66-e16d-4b07-a9b2-2f6c5d1593ae",
   "metadata": {},
   "source": [
    "# Ejemlo de regresión lineal con datos de diabetes\n",
    "primero importamos cosas"
   ]
  },
  {
   "cell_type": "code",
   "execution_count": 1,
   "id": "6fcac602-0f4a-4d1a-b834-8f7eafce7cfd",
   "metadata": {},
   "outputs": [],
   "source": [
    "\n",
    "import matplotlib.pyplot as plt\n",
    "import numpy as np\n",
    "\n",
    "from sklearn import datasets, linear_model\n",
    "from sklearn.metrics import mean_squared_error, r2_score\n"
   ]
  },
  {
   "cell_type": "markdown",
   "id": "01c10500-3ea9-4aaf-9217-2a9048b88768",
   "metadata": {},
   "source": [
    "A continuación cargamos los datos desde los datasets de scikit,\n",
    "seleccionamos solo una característica del dataset y divido los \n",
    "datos en conjuntos de entrenamiento y prueba, y tambien divido \n",
    "los objetivos en conjuntos de entrenamiento y prueba"
   ]
  },
  {
   "cell_type": "code",
   "execution_count": 2,
   "id": "70f06df3-fb36-402b-a231-c654900dfc3b",
   "metadata": {},
   "outputs": [],
   "source": [
    "\n",
    "# Load the diabetes dataset\n",
    "diabetes_X, diabetes_y = datasets.load_diabetes(return_X_y=True)\n",
    "\n",
    "# Use only one feature\n",
    "diabetes_X = diabetes_X[:, np.newaxis, 2]\n",
    "\n",
    "# Split the data into training/testing sets\n",
    "diabetes_X_train = diabetes_X[:-20]\n",
    "diabetes_X_test = diabetes_X[-20:]\n",
    "\n",
    "# Split the targets into training/testing sets\n",
    "diabetes_y_train = diabetes_y[:-20]\n",
    "diabetes_y_test = diabetes_y[-20:]\n"
   ]
  },
  {
   "cell_type": "markdown",
   "id": "02a89da1-7d62-4157-bca8-7be3ee51341f",
   "metadata": {},
   "source": [
    "Creo un objeto de regresión lineal\n",
    "Entreno el modelo usando los conjuntos de entrenamiento\n",
    "Realizo predicciones usando el conjunto de pruebas"
   ]
  },
  {
   "cell_type": "code",
   "execution_count": null,
   "id": "456c5025-b8fd-4007-a29f-17349cea7506",
   "metadata": {},
   "outputs": [],
   "source": [
    "\n",
    "# Create linear regression object\n",
    "regr = linear_model.LinearRegression()\n",
    "\n",
    "# Train the model using the training sets\n",
    "regr.fit(diabetes_X_train, diabetes_y_train)\n",
    "\n",
    "# Make predictions using the testing set\n",
    "diabetes_y_pred = regr.predict(diabetes_X_test)\n",
    "\n"
   ]
  },
  {
   "cell_type": "markdown",
   "id": "a4a8e7bb-d6f5-49ac-9e90-7baf88fe0180",
   "metadata": {},
   "source": [
    " Imprimo los coeficientes del modelo,\n",
    " el error cuadrático medio y\n",
    " el coeficiente de determinación (R^2): 1 significa predicción perfecta"
   ]
  },
  {
   "cell_type": "code",
   "execution_count": null,
   "id": "fde952dd-8c74-46a5-8fef-ec2e4ba21edb",
   "metadata": {},
   "outputs": [],
   "source": [
    "\n",
    "# The coefficients\n",
    "print(\"Coefficients: \\n\", regr.coef_)\n",
    "# The mean squared error\n",
    "print(\"Mean squared error: %.2f\" % mean_squared_error(diabetes_y_test, diabetes_y_pred))\n",
    "# The coefficient of determination: 1 is perfect prediction\n",
    "print(\"Coefficient of determination: %.2f\" % r2_score(diabetes_y_test, diabetes_y_pred))"
   ]
  },
  {
   "cell_type": "markdown",
   "id": "e312e1e0-ed8d-47bd-b4bf-4da007a3d0ba",
   "metadata": {},
   "source": [
    "creo la grafica con las salidas,\n",
    "añado labels a los ejes y un titulo,\n",
    "quito las etiquetas en los ejes x e y, \n",
    "finalmente muestro la grafica"
   ]
  },
  {
   "cell_type": "code",
   "execution_count": null,
   "id": "a4978c58-cec6-4e58-9db0-9ea1b129acd0",
   "metadata": {},
   "outputs": [],
   "source": [
    "\n",
    "# Plot outputs\n",
    "plt.scatter(diabetes_X_test, diabetes_y_test, color=\"black\")\n",
    "plt.plot(diabetes_X_test, diabetes_y_pred, color=\"blue\", linewidth=3)\n",
    "\n",
    "plt.xlabel('diabetes test')\n",
    "plt.ylabel('diabetes pred')\n",
    "plt.title('Datos de diabetes')\n",
    "\n",
    "#plt.xticks(())\n",
    "#plt.yticks(())\n",
    "\n",
    "#plt.tight_layout()\n",
    "\n",
    "plt.show()"
   ]
  }
 ],
 "metadata": {
  "kernelspec": {
   "display_name": "Python 3 (ipykernel)",
   "language": "python",
   "name": "python3"
  },
  "language_info": {
   "codemirror_mode": {
    "name": "ipython",
    "version": 3
   },
   "file_extension": ".py",
   "mimetype": "text/x-python",
   "name": "python",
   "nbconvert_exporter": "python",
   "pygments_lexer": "ipython3",
   "version": "3.12.2"
  }
 },
 "nbformat": 4,
 "nbformat_minor": 5
}
