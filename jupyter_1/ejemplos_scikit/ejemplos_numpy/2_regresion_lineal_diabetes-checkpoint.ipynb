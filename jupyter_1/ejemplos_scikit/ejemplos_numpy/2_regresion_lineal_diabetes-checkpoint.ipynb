{
 "cells": [
  {
   "cell_type": "markdown",
   "id": "b685c536-2681-4e7f-a3ab-f439355831d5",
   "metadata": {},
   "source": [
    "# Ejemplo de regresion lineal con datos de diabetes\n",
    "\n",
    "Primero importamos cosas, previamente tienen que estar instaladas en el virtual environment de python"
   ]
  },
  {
   "cell_type": "code",
   "execution_count": 1,
   "id": "4ecc5e3f-d357-4126-8cf4-5fe9067de886",
   "metadata": {},
   "outputs": [],
   "source": [
    "# Code source: Jaques Grobler\n",
    "# License: BSD 3 clause\n",
    "\n",
    "import matplotlib.pyplot as plt\n",
    "import numpy as np\n",
    "\n",
    "from sklearn import datasets, linear_model\n",
    "from sklearn.metrics import mean_squared_error, r2_score\n"
   ]
  },
  {
   "cell_type": "markdown",
   "id": "56cd713c-d214-4d7b-9413-a764aee1c6d4",
   "metadata": {},
   "source": [
    "A continuación separamos el dataset en dos trozos"
   ]
  },
  {
   "cell_type": "code",
   "execution_count": 11,
   "id": "1479be10-b65a-46cf-8439-b07bb6205870",
   "metadata": {},
   "outputs": [
    {
     "name": "stdout",
     "output_type": "stream",
     "text": [
      "<class 'numpy.ndarray'>\n",
      "diabetes_X: [ 0.03807591  0.05068012  0.06169621  0.02187239 -0.0442235  -0.03482076\n",
      " -0.04340085 -0.00259226  0.01990749 -0.01764613]\n"
     ]
    }
   ],
   "source": [
    "# Load the diabetes dataset\n",
    "diabetes_X, diabetes_y = datasets.load_diabetes(return_X_y=True)\n",
    "print (type(diabetes_X[0]))\n",
    "print(\"diabetes_X:\",diabetes_X[0]);"
   ]
  },
  {
   "cell_type": "code",
   "execution_count": 12,
   "id": "e02cf4c2-7898-473a-9437-a40e0cbc5217",
   "metadata": {},
   "outputs": [
    {
     "name": "stdout",
     "output_type": "stream",
     "text": [
      "(442, 10)\n",
      "(442, 1) <class 'numpy.ndarray'>\n",
      "(442,)\n"
     ]
    }
   ],
   "source": [
    "print (diabetes_X.data.shape)\n",
    "\n",
    "# Use only one feature\n",
    "diabetes_X = diabetes_X[:, np.newaxis, 2]\n",
    "\n",
    "print (diabetes_X.data.shape, type(diabetes_X))\n",
    "print (diabetes_y.data.shape)"
   ]
  },
  {
   "cell_type": "code",
   "execution_count": 4,
   "id": "d5719ff7-3642-4a09-902a-1dc5cb6cb2c2",
   "metadata": {},
   "outputs": [],
   "source": [
    "\n",
    "# Split the data into training/testing sets\n",
    "diabetes_X_train = diabetes_X[:-20]\n",
    "diabetes_X_test = diabetes_X[-20:]\n",
    "\n",
    "# Split the targets into training/testing sets\n",
    "diabetes_y_train = diabetes_y[:-20]\n",
    "diabetes_y_test = diabetes_y[-20:]"
   ]
  },
  {
   "cell_type": "code",
   "execution_count": 5,
   "id": "08818a01-d354-4209-b020-113019553ec6",
   "metadata": {},
   "outputs": [
    {
     "name": "stdout",
     "output_type": "stream",
     "text": [
      "(422, 1)\n",
      "diabetes_X_train None\n",
      "(20, 1)\n",
      "diabetes_X_test None\n"
     ]
    }
   ],
   "source": [
    "print (\"diabetes_X_train\", print (diabetes_X_train.data.shape))\n",
    "print (\"diabetes_X_test\", print (diabetes_X_test.data.shape))"
   ]
  },
  {
   "cell_type": "code",
   "execution_count": 6,
   "id": "d1520ee8-be68-450d-9ffa-d18c0a632c10",
   "metadata": {},
   "outputs": [],
   "source": [
    "# Create linear regression object\n",
    "regr = linear_model.LinearRegression()\n",
    "\n",
    "# Train the model using the training sets\n",
    "regr.fit(diabetes_X_train, diabetes_y_train)\n",
    "\n",
    "# Make predictions using the testing set\n",
    "diabetes_y_pred = regr.predict(diabetes_X_test)\n",
    "\n"
   ]
  },
  {
   "cell_type": "code",
   "execution_count": 7,
   "id": "6061255e-f414-4193-9bce-d8e19a7dcdbe",
   "metadata": {},
   "outputs": [
    {
     "name": "stdout",
     "output_type": "stream",
     "text": [
      "Coefficients: \n",
      " [938.23786125]\n",
      "Mean squared error: 2548.07\n",
      "Coefficient of determination: 0.47\n"
     ]
    }
   ],
   "source": [
    "# The coefficients\n",
    "print(\"Coefficients: \\n\", regr.coef_)\n",
    "# The mean squared error\n",
    "print(\"Mean squared error: %.2f\" % mean_squared_error(diabetes_y_test, diabetes_y_pred))\n",
    "# The coefficient of determination: 1 is perfect prediction\n",
    "print(\"Coefficient of determination: %.2f\" % r2_score(diabetes_y_test, diabetes_y_pred))\n",
    "\n"
   ]
  },
  {
   "cell_type": "markdown",
   "id": "86077e59-90bc-4f72-8ca9-96e9640eddbb",
   "metadata": {},
   "source": [
    "Voy a añadir labels a la grafica pq no me dice absolutamente nada, como no recuerdo como se hace le pregunto a google o a chatgpt\n",
    "\n",
    "![](pregunto_a_chat_gpt.png)"
   ]
  },
  {
   "cell_type": "code",
   "execution_count": 13,
   "id": "f814c966-9dec-4193-a53d-8f9aba7d7708",
   "metadata": {},
   "outputs": [
    {
     "data": {
      "text/plain": [
       "Text(0, 0.5, 'Eje Y')"
      ]
     },
     "execution_count": 13,
     "metadata": {},
     "output_type": "execute_result"
    },
    {
     "data": {
      "image/png": "[encoded data removed]",
      "text/plain": [
       "<Figure size 640x480 with 1 Axes>"
      ]
     },
     "metadata": {},
     "output_type": "display_data"
    }
   ],
   "source": [
    "# Plot outputs\n",
    "plt.scatter(diabetes_X_test, diabetes_y_test, color=\"black\")\n",
    "plt.plot(diabetes_X_test, diabetes_y_pred, color=\"blue\", linewidth=3)\n",
    "\n",
    "plt.xlabel('Eje X')\n",
    "plt.ylabel('Eje Y')\n"
   ]
  },
  {
   "cell_type": "code",
   "execution_count": 14,
   "id": "87d127d9-9658-4640-b2f3-8964e0a39dba",
   "metadata": {},
   "outputs": [],
   "source": [
    "plt.show()"
   ]
  },
  {
   "cell_type": "markdown",
   "id": "96aaad2a-3924-46fd-8480-efbfa7ad7385",
   "metadata": {},
   "source": [
    "Vamos a intentar pintar un nuevo dato alrededor de la posicion 0.02 del eje X a ver si conseguimos:<br>1) que el predictor (el modelo) prediga correctamente el valor de Y.<br>2) Ser capaces en matplotlib de meter dicha prediccion con un color especial)"
   ]
  },
  {
   "cell_type": "code",
   "execution_count": null,
   "id": "9c139102-90dd-49bc-b23f-af31e703fd13",
   "metadata": {},
   "outputs": [],
   "source": []
  },
  {
   "cell_type": "code",
   "execution_count": null,
   "id": "5faaab67-8e69-4fb9-8e66-f90159fec718",
   "metadata": {},
   "outputs": [],
   "source": []
  },
  {
   "cell_type": "code",
   "execution_count": null,
   "id": "eb18a4cb-e157-4066-a9e5-a47020470a57",
   "metadata": {},
   "outputs": [],
   "source": []
  }
 ],
 "metadata": {
  "kernelspec": {
   "display_name": "Python 3 (ipykernel)",
   "language": "python",
   "name": "python3"
  },
  "language_info": {
   "codemirror_mode": {
    "name": "ipython",
    "version": 3
   },
   "file_extension": ".py",
   "mimetype": "text/x-python",
   "name": "python",
   "nbconvert_exporter": "python",
   "pygments_lexer": "ipython3",
   "version": "3.12.2"
  }
 },
 "nbformat": 4,
 "nbformat_minor": 5
}
